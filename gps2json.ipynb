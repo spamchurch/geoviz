{
 "cells": [
  {
   "cell_type": "code",
   "execution_count": 57,
   "metadata": {},
   "outputs": [],
   "source": [
    "import pandas as pd\n",
    "from dateutil import parser\n",
    "import json\n",
    "raw = pd.read_csv(\"GPS TRACKING.csv\")"
   ]
  },
  {
   "cell_type": "code",
   "execution_count": 58,
   "metadata": {},
   "outputs": [],
   "source": [
    "ll_data = [[x,y] for x,y in zip(raw['Latitude'].values,raw['Longitude'].values)]\n",
    "raw['time'] = [parser.parse(d +\" \" + t) for d,t in zip(raw['Date'].values,raw['Time Type'].values)]\n",
    "tmax = max(raw['time'].values) \n",
    "tmin = min(raw['time'].values) \n",
    "raw['time_percent'] = [(t - tmin) / (tmax - tmin) for t in raw['time'].values]"
   ]
  },
  {
   "cell_type": "code",
   "execution_count": 59,
   "metadata": {},
   "outputs": [],
   "source": [
    "out = [{\"type\":\"latlng\",\n",
    "      \"data\":ll_data},\n",
    "      {\"type\" : 'altitude',\n",
    "      \"data\": list(raw['time_percent'].values)\n",
    "      },\n",
    "      {\"type\" : 'distance',\n",
    "      \"data\": list(raw['time_percent'].values)\n",
    "      }]"
   ]
  },
  {
   "cell_type": "code",
   "execution_count": 60,
   "metadata": {},
   "outputs": [],
   "source": [
    "with open('gps_data.json', 'w') as outfile:\n",
    "    json.dump(out, outfile)"
   ]
  },
  {
   "cell_type": "code",
   "execution_count": 65,
   "metadata": {},
   "outputs": [
    {
     "data": {
      "text/plain": [
       "-64.217382"
      ]
     },
     "execution_count": 65,
     "metadata": {},
     "output_type": "execute_result"
    }
   ],
   "source": [
    "max(raw['Longitude'].values)"
   ]
  },
  {
   "cell_type": "code",
   "execution_count": null,
   "metadata": {},
   "outputs": [],
   "source": []
  }
 ],
 "metadata": {
  "kernelspec": {
   "display_name": "Python 3",
   "language": "python",
   "name": "python3"
  },
  "language_info": {
   "codemirror_mode": {
    "name": "ipython",
    "version": 3
   },
   "file_extension": ".py",
   "mimetype": "text/x-python",
   "name": "python",
   "nbconvert_exporter": "python",
   "pygments_lexer": "ipython3",
   "version": "3.6.4"
  }
 },
 "nbformat": 4,
 "nbformat_minor": 2
}
